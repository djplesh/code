{
 "cells": [
  {
   "cell_type": "code",
   "execution_count": 1,
   "metadata": {
    "collapsed": false
   },
   "outputs": [],
   "source": [
    "from tetra_analysis.ec_search.analysis import Tetra\n",
    "import tetra_analysis.ec_search.lightning as light"
   ]
  },
  {
   "cell_type": "code",
   "execution_count": null,
   "metadata": {
    "collapsed": false
   },
   "outputs": [],
   "source": [
    "pan = Tetra(2,['02'])"
   ]
  },
  {
   "cell_type": "code",
   "execution_count": null,
   "metadata": {
    "collapsed": false
   },
   "outputs": [],
   "source": [
    "pan.loop_days('2018_04_01',30)"
   ]
  },
  {
   "cell_type": "code",
   "execution_count": null,
   "metadata": {
    "collapsed": false
   },
   "outputs": [],
   "source": [
    "pan.loop_days2('2018_04_01',30)"
   ]
  },
  {
   "cell_type": "code",
   "execution_count": 2,
   "metadata": {
    "collapsed": true
   },
   "outputs": [],
   "source": [
    "lsu = Tetra(1,['01'])"
   ]
  },
  {
   "cell_type": "code",
   "execution_count": 3,
   "metadata": {
    "collapsed": false
   },
   "outputs": [
    {
     "name": "stdout",
     "output_type": "stream",
     "text": [
      "2018_05_23 8\n"
     ]
    }
   ],
   "source": [
    "lsu.loop_days2('2018_05_23',1,.002,20)"
   ]
  },
  {
   "cell_type": "code",
   "execution_count": 11,
   "metadata": {
    "collapsed": false
   },
   "outputs": [
    {
     "name": "stdout",
     "output_type": "stream",
     "text": [
      "2018_05_23 8\n",
      "[ 38338.36   38439.598  38454.152  38485.284  38624.584  38896.42   38910.87\n",
      "  39350.65 ]\n"
     ]
    }
   ],
   "source": [
    "ts = lsu.get_ts(23,5,2018)\n",
    "counts,bin_mid=lsu.hist(.002,ts)\n",
    "lsu.sig_search(counts,20,'2018_05_23')\n",
    "print lsu.trigs"
   ]
  },
  {
   "cell_type": "code",
   "execution_count": 9,
   "metadata": {
    "collapsed": false,
    "scrolled": true
   },
   "outputs": [
    {
     "name": "stdout",
     "output_type": "stream",
     "text": [
      "2018_04_08 1\n",
      "2018_04_13 1\n",
      "2018_04_23 1\n",
      "2018_05_11 2\n",
      "2018_05_12 1\n",
      "2018_05_14 1\n",
      "2018_05_15 75\n",
      "2018_05_16 144\n",
      "2018_05_17 1\n",
      "2018_05_18 2\n",
      "2018_05_19 1\n",
      "2018_05_23 8\n",
      "2018_05_24 1\n",
      "2018_05_26 804\n",
      "2018_05_27 2\n",
      "2018_05_28 65\n"
     ]
    }
   ],
   "source": [
    "lsu1 = Tetra(1,['01'])\n",
    "lsu1.loop_days2('2018_04_01',60)"
   ]
  },
  {
   "cell_type": "code",
   "execution_count": 10,
   "metadata": {
    "collapsed": false
   },
   "outputs": [
    {
     "name": "stdout",
     "output_type": "stream",
     "text": [
      "2018_04_13 1\n",
      "2018_04_16 2\n",
      "2018_05_11 2\n",
      "2018_05_12 1\n",
      "2018_05_13 1\n",
      "2018_05_14 2\n",
      "2018_05_17 58\n",
      "2018_05_20 1\n",
      "2018_05_22 2\n"
     ]
    }
   ],
   "source": [
    "lsu2 = Tetra(1,['02'])\n",
    "lsu2.loop_days2('2018_04_01',60)"
   ]
  },
  {
   "cell_type": "code",
   "execution_count": 11,
   "metadata": {
    "collapsed": false
   },
   "outputs": [
    {
     "name": "stdout",
     "output_type": "stream",
     "text": [
      "2018_04_01 954\n",
      "2018_04_02 6214\n",
      "2018_04_06 1859\n",
      "2018_04_09 1219\n",
      "2018_04_11 5288\n",
      "2018_04_13 880\n",
      "2018_05_22 1\n"
     ]
    }
   ],
   "source": [
    "pr2 = Tetra(3,['02'])\n",
    "pr2.loop_days2('2018_04_01',60)"
   ]
  },
  {
   "cell_type": "code",
   "execution_count": 12,
   "metadata": {
    "collapsed": false
   },
   "outputs": [
    {
     "name": "stdout",
     "output_type": "stream",
     "text": [
      "01\n",
      "2018_05_30 13\n",
      "02\n",
      "2018_05_22 1\n",
      "03\n",
      "04\n",
      "05\n",
      "06\n",
      "2018_05_24 3\n",
      "2018_05_28 1\n",
      "07\n",
      "2018_05_20 1\n",
      "08\n"
     ]
    }
   ],
   "source": [
    "prbox = ['01','02','03','04','05','06','07','08']\n",
    "for x in prbox:\n",
    "    pr = Tetra(3,[x])\n",
    "    print x\n",
    "    pr.loop_days2('2018_05_11',20)"
   ]
  },
  {
   "cell_type": "code",
   "execution_count": 11,
   "metadata": {
    "collapsed": false
   },
   "outputs": [
    {
     "name": "stdout",
     "output_type": "stream",
     "text": [
      "03\n",
      "2018_05_11 3\n",
      "2018_05_12 11\n",
      "2018_05_13 3\n",
      "2018_05_16 9\n",
      "2018_05_17 5\n",
      "2018_05_18 3\n",
      "2018_05_19 9\n",
      "2018_05_20 8\n",
      "2018_05_21 10\n",
      "2018_05_22 8\n",
      "2018_05_23 10\n",
      "2018_05_24 4\n",
      "2018_05_25 13\n",
      "2018_05_26 2\n",
      "2018_05_27 14\n",
      "2018_05_28 10\n",
      "2018_05_29 13\n",
      "2018_05_30 7\n",
      "04\n",
      "2018_05_11 7\n",
      "2018_05_12 14\n",
      "2018_05_13 4\n",
      "2018_05_14 20\n",
      "2018_05_15 11\n",
      "2018_05_16 11\n",
      "2018_05_17 17\n",
      "2018_05_18 14\n",
      "2018_05_19 7\n",
      "2018_05_20 14\n",
      "2018_05_21 8\n",
      "2018_05_22 13\n",
      "2018_05_23 12\n",
      "2018_05_24 18\n",
      "2018_05_25 11\n",
      "2018_05_26 8\n",
      "2018_05_27 21\n",
      "2018_05_28 17\n",
      "2018_05_29 14\n",
      "2018_05_30 13\n",
      "05\n",
      "2018_05_20 8\n",
      "2018_05_21 2\n",
      "2018_05_22 3\n",
      "2018_05_23 6\n",
      "2018_05_24 3\n",
      "2018_05_25 1\n",
      "2018_05_26 2\n",
      "2018_05_27 3\n",
      "2018_05_28 6\n"
     ]
    }
   ],
   "source": [
    "panbox = ['03','04','05']\n",
    "for x in panbox:\n",
    "    pan = Tetra(2,[x])\n",
    "    print x\n",
    "    pan.loop_days2('2018_05_11',20,.002,16)"
   ]
  },
  {
   "cell_type": "code",
   "execution_count": 7,
   "metadata": {
    "collapsed": false
   },
   "outputs": [
    {
     "name": "stdout",
     "output_type": "stream",
     "text": [
      "03\n",
      "04\n",
      "05\n",
      "51902.156 on 2018_05_26 \n",
      "1 lightning strikes within 5 sec of event \n",
      "2.798274 sec apart 5.750 kms away \n",
      "5.750 kms away 2.798274 sec apart \n",
      "\n"
     ]
    }
   ],
   "source": [
    "panbox = ['03','04','05']\n",
    "for x in panbox:\n",
    "    pan = Tetra(2,[x])\n",
    "    print x\n",
    "    pan.loop_days('2018_05_11',17,.002,10,5,'wwlln')"
   ]
  },
  {
   "cell_type": "code",
   "execution_count": 8,
   "metadata": {
    "collapsed": false
   },
   "outputs": [
    {
     "name": "stdout",
     "output_type": "stream",
     "text": [
      "73782.408 on 2018_04_22 \n",
      "1 lightning strikes within 5 sec of event \n",
      "1.000605 sec apart 3.387 kms away \n",
      "3.387 kms away 1.000605 sec apart \n",
      "\n",
      "66301.898 on 2018_04_26 \n",
      "1 lightning strikes within 5 sec of event \n",
      "1.178690 sec apart 0.447 kms away \n",
      "0.447 kms away 1.178690 sec apart \n",
      "\n",
      "66302.076 on 2018_04_26 \n",
      "1 lightning strikes within 5 sec of event \n",
      "1.000690 sec apart 0.447 kms away \n",
      "0.447 kms away 1.000690 sec apart \n",
      "\n",
      "66302.08 on 2018_04_26 \n",
      "1 lightning strikes within 5 sec of event \n",
      "0.996690 sec apart 0.447 kms away \n",
      "0.447 kms away 0.996690 sec apart \n",
      "\n",
      "66302.082 on 2018_04_26 \n",
      "1 lightning strikes within 5 sec of event \n",
      "0.994690 sec apart 0.447 kms away \n",
      "0.447 kms away 0.994690 sec apart \n",
      "\n",
      "66302.258 on 2018_04_26 \n",
      "1 lightning strikes within 5 sec of event \n",
      "0.818690 sec apart 0.447 kms away \n",
      "0.447 kms away 0.818690 sec apart \n",
      "\n",
      "68315.21 on 2018_04_26 \n",
      "4 lightning strikes within 5 sec of event \n",
      "1.001152 sec apart 5.883 kms away \n",
      "4.551 kms away 1.373256 sec apart \n",
      "\n",
      "68315.412 on 2018_04_26 \n",
      "4 lightning strikes within 5 sec of event \n",
      "0.799152 sec apart 5.883 kms away \n",
      "4.551 kms away 1.171256 sec apart \n",
      "\n"
     ]
    }
   ],
   "source": [
    "pan2 = Tetra(2,['02'])\n",
    "pan2.loop_days('2018_04_01',30,.002,20,5,'wwlln')"
   ]
  },
  {
   "cell_type": "code",
   "execution_count": null,
   "metadata": {
    "collapsed": true
   },
   "outputs": [],
   "source": []
  }
 ],
 "metadata": {
  "anaconda-cloud": {},
  "kernelspec": {
   "display_name": "Python [default]",
   "language": "python",
   "name": "python2"
  },
  "language_info": {
   "codemirror_mode": {
    "name": "ipython",
    "version": 2
   },
   "file_extension": ".py",
   "mimetype": "text/x-python",
   "name": "python",
   "nbconvert_exporter": "python",
   "pygments_lexer": "ipython2",
   "version": "2.7.14"
  }
 },
 "nbformat": 4,
 "nbformat_minor": 2
}
