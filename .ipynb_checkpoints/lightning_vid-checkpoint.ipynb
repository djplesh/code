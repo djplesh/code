{
 "cells": [
  {
   "cell_type": "code",
   "execution_count": 11,
   "metadata": {
    "collapsed": false
   },
   "outputs": [],
   "source": [
    "import sys\n",
    "import cv2\n",
    "import numpy as np\n",
    "import progressbar\n",
    "\n",
    "SCALE = 0.5\n",
    "NOISE_CUTOFF = 5\n",
    "BLUR_SIZE = 3\n",
    "\n",
    "\n",
    "def count_diff(img1, img2):\n",
    "\n",
    "    small1 = cv2.resize(img1, (0,0), fx=SCALE, fy=SCALE)\n",
    "    small2 = cv2.resize(img2, (0,0), fx=SCALE, fy=SCALE)\n",
    "\n",
    "    diff = cv2.absdiff(small1, small2)\n",
    "    diff = cv2.cvtColor(diff, cv2.COLOR_RGB2GRAY)\n",
    "    frame_delta1 = cv2.threshold(diff, NOISE_CUTOFF, 255, 3)[1]\n",
    "    frame_delta1_color = cv2.cvtColor(frame_delta1, cv2.COLOR_GRAY2RGB)\n",
    "    delta_count1 = cv2.countNonZero(frame_delta1)\n",
    "\n",
    "    return delta_count1\n",
    "\n",
    "filename = 'C:/Users/tetra/lightning_strike.mp4'\n",
    "treshold = int(100000)\n"
   ]
  },
  {
   "cell_type": "code",
   "execution_count": 12,
   "metadata": {
    "collapsed": false
   },
   "outputs": [
    {
     "name": "stderr",
     "output_type": "stream",
     "text": [
      "\\ | #                                                 | 5 Elapsed Time: 0:00:00"
     ]
    },
    {
     "name": "stdout",
     "output_type": "stream",
     "text": [
      "Frame size:  1280 720\n",
      "Total frames: 3585\n",
      "Fps: 29\n"
     ]
    },
    {
     "name": "stderr",
     "output_type": "stream",
     "text": [
      "\\ |          #                                     | 3577 Elapsed Time: 0:00:18"
     ]
    },
    {
     "name": "stdout",
     "output_type": "stream",
     "text": [
      "Strikes:  105\n"
     ]
    }
   ],
   "source": [
    "video = cv2.VideoCapture(filename)\n",
    "nframes = int(video.get(cv2.CAP_PROP_FRAME_COUNT))\n",
    "width = int(video.get(cv2.CAP_PROP_FRAME_WIDTH))\n",
    "height = int(video.get(cv2.CAP_PROP_FRAME_HEIGHT))\n",
    "fps= int(video.get(cv2.CAP_PROP_FPS))\n",
    "\n",
    "frame_count = 0\n",
    "\n",
    "print \"Frame size: \", width, height\n",
    "print \"Total frames:\", nframes\n",
    "print \"Fps:\", fps\n",
    "\n",
    "fff = open(filename+\".csv\", 'w')\n",
    "\n",
    "flag, frame0 = video.read()\n",
    "strikes = 0\n",
    "\n",
    "br = progressbar.ProgressBar(max_value=progressbar.UnknownLength)\n",
    "for f in xrange(nframes-1):\n",
    "\n",
    "    br.update(f)\n",
    "\n",
    "    flag, frame1 = video.read()\n",
    "    diff1  = count_diff(frame0, frame1)\n",
    "    name = filename+\"_%06d.jpg\" % f\n",
    "\n",
    "    if diff1 > treshold:\n",
    "        cv2.imwrite(name, frame1)\n",
    "        strikes = strikes + 1\n",
    "        \n",
    "\n",
    "    text = str(f)+', '+str(diff1)\n",
    "    fff.write(text  + '\\n')\n",
    "    fff.flush()\n",
    "    frame0 = frame1\n",
    "    \n",
    "fff.close()\n",
    "print 'Strikes: ', strikes"
   ]
  },
  {
   "cell_type": "code",
   "execution_count": null,
   "metadata": {
    "collapsed": true
   },
   "outputs": [],
   "source": []
  }
 ],
 "metadata": {
  "kernelspec": {
   "display_name": "Python [default]",
   "language": "python",
   "name": "python2"
  },
  "language_info": {
   "codemirror_mode": {
    "name": "ipython",
    "version": 2
   },
   "file_extension": ".py",
   "mimetype": "text/x-python",
   "name": "python",
   "nbconvert_exporter": "python",
   "pygments_lexer": "ipython2",
   "version": "2.7.14"
  }
 },
 "nbformat": 4,
 "nbformat_minor": 2
}
