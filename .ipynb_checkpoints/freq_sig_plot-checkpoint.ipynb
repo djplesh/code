{
 "cells": [
  {
   "cell_type": "code",
   "execution_count": 1,
   "metadata": {
    "collapsed": false
   },
   "outputs": [],
   "source": [
    "import csv\n",
    "from tetra_tools.tools import path_files"
   ]
  },
  {
   "cell_type": "code",
   "execution_count": 79,
   "metadata": {
    "collapsed": false
   },
   "outputs": [],
   "source": [
    "n = []\n",
    "f = []\n",
    "with open('C:/Users/tetra/analysis/freq_sig/LSU-2017_03_25e.csv') as infile:\n",
    "    reader = csv.reader(infile)\n",
    "    for row in reader:\n",
    "        if row[0].startswith('#'):\n",
    "            h = float(row[0][2:9])\n",
    "        else:\n",
    "            n.append(float(row[0]))\n",
    "            f.append(float(row[1]))"
   ]
  },
  {
   "cell_type": "code",
   "execution_count": 80,
   "metadata": {
    "collapsed": false
   },
   "outputs": [
    {
     "data": {
      "text/plain": [
       "2255567.0"
      ]
     },
     "execution_count": 80,
     "metadata": {},
     "output_type": "execute_result"
    }
   ],
   "source": [
    "f[0]"
   ]
  },
  {
   "cell_type": "code",
   "execution_count": 2,
   "metadata": {
    "collapsed": false
   },
   "outputs": [],
   "source": [
    "file_list = path_files('C:/Users/tetra/analysis/freq_sig/')"
   ]
  },
  {
   "cell_type": "code",
   "execution_count": 149,
   "metadata": {
    "collapsed": false
   },
   "outputs": [
    {
     "data": {
      "text/plain": [
       "['C:/Users/tetra/analysis/freq_sig/LSU-2017_03_25e.csv',\n",
       " 'C:/Users/tetra/analysis/freq_sig/LSU-2017_04_03e.csv',\n",
       " 'C:/Users/tetra/analysis/freq_sig/PAN-2017_05_31e.csv',\n",
       " 'C:/Users/tetra/analysis/freq_sig/PAN-2017_06_01e.csv',\n",
       " 'C:/Users/tetra/analysis/freq_sig/PAN-2017_08_10e.csv',\n",
       " 'C:/Users/tetra/analysis/freq_sig/PR-2016_09_19e.csv',\n",
       " 'C:/Users/tetra/analysis/freq_sig/single_box']"
      ]
     },
     "execution_count": 149,
     "metadata": {},
     "output_type": "execute_result"
    }
   ],
   "source": [
    "file_list"
   ]
  },
  {
   "cell_type": "code",
   "execution_count": 3,
   "metadata": {
    "collapsed": false
   },
   "outputs": [],
   "source": [
    "total_time = 0\n",
    "n_sum = np.array([])\n",
    "a_sum = np.array([])\n",
    "\n",
    "for f in file_list:\n",
    "    if f[-3:] == 'csv':\n",
    "        n = []\n",
    "        a = []\n",
    "        with open(f) as infile:\n",
    "            reader = csv.reader(infile)\n",
    "            for row in reader:\n",
    "                if row[0].startswith('#'):\n",
    "                    h = float(row[0][2:9])\n",
    "                    total_time = total_time + h\n",
    "                else:\n",
    "                    n.append(float(row[0]))\n",
    "                    a.append(float(row[1]))\n",
    "            a = np.array(a)\n",
    "            n = np.array(n)\n",
    "            if len(n) < len(n_sum):\n",
    "                n.resize(n_sum.shape)\n",
    "            else:\n",
    "                n_sum.resize(n.shape)\n",
    "            n_sum = n_sum + n\n",
    "            if len(a) < len(a_sum):\n",
    "                a.resize(a_sum.shape)\n",
    "            else:\n",
    "                a_sum.resize(a.shape)\n",
    "            a_sum = a_sum + a\n",
    "            "
   ]
  },
  {
   "cell_type": "code",
   "execution_count": 6,
   "metadata": {
    "collapsed": false
   },
   "outputs": [
    {
     "data": {
      "image/png": "[encoded data removed]",
      "text/plain": [
       "<matplotlib.figure.Figure at 0xd17a668>"
      ]
     },
     "metadata": {},
     "output_type": "display_data"
    }
   ],
   "source": [
    "x1 = np.arange(len(n_sum))+1\n",
    "plt.bar(x1,n_sum, color = 'w', edgecolor = 'purple', width = 1, log = True, hatch = '')\n",
    "plt.bar(x1,a_sum, color = 'w', edgecolor = 'g', width = 1, log = True, hatch = '')\n",
    "plt.xlim([0,150])\n",
    "plt.ylim([0.01,1e7])\n",
    "plt.title('6 events, background normalized to 5 hours')\n",
    "plt.ylabel('# of events')\n",
    "plt.xlabel('Sigma')\n",
    "#plt.savefig('C:/Users/tetra/analysis/freq_sig/freq_sig.pdf')\n",
    "plt.show()\n"
   ]
  },
  {
   "cell_type": "code",
   "execution_count": 152,
   "metadata": {
    "collapsed": false
   },
   "outputs": [
    {
     "data": {
      "text/plain": [
       "4.97978"
      ]
     },
     "execution_count": 152,
     "metadata": {},
     "output_type": "execute_result"
    }
   ],
   "source": [
    "total_time"
   ]
  },
  {
   "cell_type": "code",
   "execution_count": null,
   "metadata": {
    "collapsed": true
   },
   "outputs": [],
   "source": []
  }
 ],
 "metadata": {
  "kernelspec": {
   "display_name": "Python [default]",
   "language": "python",
   "name": "python2"
  },
  "language_info": {
   "codemirror_mode": {
    "name": "ipython",
    "version": 2
   },
   "file_extension": ".py",
   "mimetype": "text/x-python",
   "name": "python",
   "nbconvert_exporter": "python",
   "pygments_lexer": "ipython2",
   "version": "2.7.14"
  }
 },
 "nbformat": 4,
 "nbformat_minor": 2
}
