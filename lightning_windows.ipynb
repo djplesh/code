{
 "cells": [
  {
   "cell_type": "code",
   "execution_count": 1,
   "metadata": {
    "collapsed": true
   },
   "outputs": [],
   "source": [
    "from tetra_analysis.ec_search.analysis import Tetra\n",
    "import tetra_analysis.ec_search.lightning as light\n",
    "import datetime as dt\n",
    "import sys"
   ]
  },
  {
   "cell_type": "code",
   "execution_count": null,
   "metadata": {
    "collapsed": false
   },
   "outputs": [],
   "source": [
    "d = dt.date(2017,3,25)\n",
    "loc = 'LSU'\n",
    "source = 'wwlln'\n",
    "\n",
    "date_str = d.strftime(\"%Y_%m_%d\")\n",
    "strikes_8km = light.nearby(loc,date_str,source)\n",
    "if len(strikes_8km[0]) == 0:\n",
    "    print 'NO LIGHTNING ON THIS DAY'\n",
    "    sys.exit()\n",
    "\n",
    "bin_size = .002\n",
    "lsu = Tetra(1, ['01','02'])\n",
    "ts = lsu.get_ts(d.day,d.month,d.year)\n",
    "counts, mids = lsu.hist(bin_size, ts)\n",
    "  \n",
    "ave_rate = np.average(counts)\n",
    "stddev = np.std(counts)"
   ]
  },
  {
   "cell_type": "code",
   "execution_count": null,
   "metadata": {
    "collapsed": false
   },
   "outputs": [],
   "source": [
    "#pick a sigma values\n",
    "sigs = [8,12,20]\n",
    "\n",
    "eve = []\n",
    "eve_b = []\n",
    "eve_n = []\n",
    "\n",
    "for sigma in sigs:\n",
    "    min_cts = np.ceil(ave_rate + sigma * stddev)\n",
    "    ecs = np.where(counts > min_cts)[0]\n",
    "    window = [5, 10, 30, 60, 120, 300, 600, 1800, 3600]\n",
    "    events = [0] * len(window)\n",
    "    i = 0\n",
    "    for w in window:\n",
    "        for x in ecs:\n",
    "            ec_time = x * bin_size\n",
    "            ec_light = light.recent(strikes_8km, ec_time, w)\n",
    "            if len(ec_light[0]) > 0:\n",
    "                events[i] = events[i] + 1\n",
    "        i = i + 1\n",
    "    eve.append(events)    "
   ]
  },
  {
   "cell_type": "code",
   "execution_count": null,
   "metadata": {
    "collapsed": false
   },
   "outputs": [],
   "source": [
    "for i in range(len(sigs)):\n",
    "    x = [1,2,3,4,5,6,7,8,9]\n",
    "    plt.bar(x, eve[i])\n",
    "    plt.xticks(x, window)\n",
    "    plt.xlabel('seconds from lightning')\n",
    "    plt.ylabel('number of events')\n",
    "    plt.title(str(sigs[i]) + ' sigma events compared to lightning times')\n",
    "    plt.show()"
   ]
  },
  {
   "cell_type": "code",
   "execution_count": 90,
   "metadata": {
    "collapsed": false
   },
   "outputs": [],
   "source": [
    "d = dt.date(2017,3,20)\n",
    "end_date = dt.date(2017,3,31)\n",
    "loc = 'LSU'\n",
    "source = 'wwlln'\n",
    "\n",
    "sigs = [20]\n",
    "window = [5, 10, 30, 60, 120, 300, 600, 1800, 3600]\n",
    "eve = np.array([0] * (len(window)+1))\n",
    "\n",
    "no_lightning_days = []\n",
    "total_strikes = 0\n",
    "\n",
    "\n",
    "while d < end_date + dt.timedelta(1):\n",
    "    date_str = d.strftime(\"%Y_%m_%d\")\n",
    "    strikes_8km = light.nearby(loc,date_str,source)\n",
    "    if len(strikes_8km[0]) == 0:\n",
    "        no_lightning_days.append(date_str)\n",
    "        d += dt.timedelta(1)\n",
    "        continue\n",
    "    total_strikes = total_strikes + len(strikes_8km[0])\n",
    "    \n",
    "    bin_size = .002\n",
    "    lsu = Tetra(1, ['01','02'])\n",
    "    ts = lsu.get_ts(d.day,d.month,d.year)\n",
    "    counts, mids = lsu.hist(bin_size, ts)\n",
    "\n",
    "    ave_rate = np.average(counts)\n",
    "    stddev = np.std(counts)\n",
    "\n",
    "    for sigma in sigs:\n",
    "        total_events = 0\n",
    "        min_cts = np.ceil(ave_rate + sigma * stddev)\n",
    "        ecs = np.where(counts > min_cts)[0]\n",
    "        total_events = total_events + len(ecs)\n",
    "        events = [0] * len(window)\n",
    "        i = 0\n",
    "        for w in window:\n",
    "            for x in ecs:\n",
    "                ec_time = x * bin_size\n",
    "                ec_light = light.recent(strikes_8km, ec_time, w)\n",
    "                if len(ec_light[0]) > 0:\n",
    "                    events[i] = events[i] + 1\n",
    "            i += 1\n",
    "            \n",
    "        extra = total_events - events[-1]\n",
    "        events.append(extra)\n",
    "        eve = eve + np.array(events)\n",
    "        \n",
    "    d += dt.timedelta(1)"
   ]
  },
  {
   "cell_type": "code",
   "execution_count": 91,
   "metadata": {
    "collapsed": false
   },
   "outputs": [
    {
     "data": {
      "image/png": "[encoded data removed]",
      "text/plain": [
       "<matplotlib.figure.Figure at 0x53a7898>"
      ]
     },
     "metadata": {},
     "output_type": "display_data"
    }
   ],
   "source": [
    "for i in range(len(sigs)):\n",
    "    xlabels = [5, 10, 30, 60, 120, 300, 600, 1800, 3600, '3600+']\n",
    "    x = [1,2,3,4,5,6,7,8,9,10]\n",
    "    plt.plot(x, eve)\n",
    "    plt.xticks(x, xlabels)\n",
    "    plt.xlabel('seconds from lightning')\n",
    "    plt.ylabel('number of events')\n",
    "    plt.title(str(sigs[i]) + ' sigma events compared to lightning times')\n",
    "    plt.show()"
   ]
  },
  {
   "cell_type": "code",
   "execution_count": 25,
   "metadata": {
    "collapsed": false
   },
   "outputs": [
    {
     "name": "stdout",
     "output_type": "stream",
     "text": [
      "7.0\n"
     ]
    }
   ],
   "source": [
    "#from this cell down is used for comparison of wwlln/entln with Jonah's matches\n",
    "\n",
    "d = dt.date(2017,9,4)\n",
    "\n",
    "loc = 'PR'\n",
    "source = 'entln'\n",
    "\n",
    "sigs = [8]\n",
    "window = [5, 10, 30, 60, 120, 300, 600, 1800, 3600]\n",
    "eve = np.array([0] * (len(window)+1))\n",
    "\n",
    "no_lightning_days = []\n",
    "total_strikes = 0\n",
    "\n",
    "date_str = d.strftime(\"%Y_%m_%d\")\n",
    "strikes_8km = light.nearby(loc,date_str,source)\n",
    "#strikes_8km = light.jonah(date_str,loc)\n",
    "total_strikes = total_strikes + len(strikes_8km[0])\n",
    "\n",
    "bin_size = .002\n",
    "pr = Tetra(3, ['04','08','09'])\n",
    "ts = pr.get_ts(d.day,d.month,d.year)\n",
    "counts, mids = pr.hist(bin_size, ts)\n",
    "\n",
    "ave_rate = np.average(counts)\n",
    "stddev = np.std(counts)\n",
    "\n",
    "for sigma in sigs:\n",
    "    total_events = 0\n",
    "    min_cts = np.ceil(ave_rate + sigma * stddev)\n",
    "    print min_cts\n",
    "    ecs = np.where(counts > min_cts)[0]\n",
    "    total_events = total_events + len(ecs)\n",
    "    events = [0] * len(window)\n",
    "    i = 0\n",
    "    for w in window:\n",
    "        for x in ecs:\n",
    "            ec_time = x * bin_size\n",
    "            ec_light = light.recent(strikes_8km, ec_time, w)\n",
    "            if len(ec_light[0]) > 0:\n",
    "                events[i] = events[i] + 1\n",
    "        i += 1\n",
    "\n",
    "    extra = total_events - events[-1]\n",
    "    events.append(extra)\n",
    "    eve = eve + np.array(events)\n",
    "    \n"
   ]
  },
  {
   "cell_type": "code",
   "execution_count": 21,
   "metadata": {
    "collapsed": false
   },
   "outputs": [
    {
     "data": {
      "text/plain": [
       "array([ 1,  1,  5,  6,  6,  7,  8, 15, 21, 95])"
      ]
     },
     "execution_count": 21,
     "metadata": {},
     "output_type": "execute_result"
    }
   ],
   "source": [
    "eve"
   ]
  },
  {
   "cell_type": "code",
   "execution_count": 22,
   "metadata": {
    "collapsed": false
   },
   "outputs": [],
   "source": [
    "eve_entln = eve"
   ]
  },
  {
   "cell_type": "code",
   "execution_count": 13,
   "metadata": {
    "collapsed": true
   },
   "outputs": [],
   "source": [
    "eve_jonah = eve"
   ]
  },
  {
   "cell_type": "code",
   "execution_count": 14,
   "metadata": {
    "collapsed": false
   },
   "outputs": [
    {
     "data": {
      "text/plain": [
       "array([ 1,  1,  9, 12, 14, 16, 19, 22, 35, 81])"
      ]
     },
     "execution_count": 14,
     "metadata": {},
     "output_type": "execute_result"
    }
   ],
   "source": [
    "eve_jonah"
   ]
  },
  {
   "cell_type": "code",
   "execution_count": 17,
   "metadata": {
    "collapsed": true
   },
   "outputs": [],
   "source": [
    "eve_wwlln = eve"
   ]
  },
  {
   "cell_type": "code",
   "execution_count": 18,
   "metadata": {
    "collapsed": false
   },
   "outputs": [
    {
     "data": {
      "text/plain": [
       "array([ 0,  0,  2,  2,  4,  5,  7, 13, 21, 95])"
      ]
     },
     "execution_count": 18,
     "metadata": {},
     "output_type": "execute_result"
    }
   ],
   "source": [
    "eve_wwlln"
   ]
  },
  {
   "cell_type": "code",
   "execution_count": 24,
   "metadata": {
    "collapsed": false
   },
   "outputs": [
    {
     "data": {
      "image/png": "[encoded data removed]",
      "text/plain": [
       "<matplotlib.figure.Figure at 0xaf0bbe0>"
      ]
     },
     "metadata": {},
     "output_type": "display_data"
    }
   ],
   "source": [
    "xlabels = [5, 10, 30, 60, 120, 300, 600, 1800, 3600, '3600+']\n",
    "x = [1,2,3,4,5,6,7,8,9,10]\n",
    "plt.plot(x, eve_entln, color = 'g')\n",
    "plt.plot(x, eve_wwlln, color = 'b')\n",
    "plt.plot(x, eve_jonah, color = 'r')\n",
    "plt.xticks(x, xlabels)\n",
    "plt.xlabel('seconds from lightning')\n",
    "plt.ylabel('number of events')\n",
    "plt.ylim([0,40])\n",
    "plt.title(str(sigs[i]) + ' sigma events compared to lightning times')\n",
    "plt.show()"
   ]
  },
  {
   "cell_type": "code",
   "execution_count": null,
   "metadata": {
    "collapsed": true
   },
   "outputs": [],
   "source": []
  }
 ],
 "metadata": {
  "kernelspec": {
   "display_name": "Python [default]",
   "language": "python",
   "name": "python2"
  },
  "language_info": {
   "codemirror_mode": {
    "name": "ipython",
    "version": 2
   },
   "file_extension": ".py",
   "mimetype": "text/x-python",
   "name": "python",
   "nbconvert_exporter": "python",
   "pygments_lexer": "ipython2",
   "version": "2.7.14"
  }
 },
 "nbformat": 4,
 "nbformat_minor": 2
}
