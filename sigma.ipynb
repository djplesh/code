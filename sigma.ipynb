{
 "cells": [
  {
   "cell_type": "code",
   "execution_count": 6,
   "metadata": {
    "collapsed": false
   },
   "outputs": [],
   "source": [
    "from tetra_analysis.sigma_plot.plot_sigma5 import *"
   ]
  },
  {
   "cell_type": "code",
   "execution_count": 7,
   "metadata": {
    "collapsed": false
   },
   "outputs": [
    {
     "ename": "SystemExit",
     "evalue": "",
     "output_type": "error",
     "traceback": [
      "An exception has occurred, use %tb to see the full traceback.\n",
      "\u001b[1;31mSystemExit\u001b[0m\n"
     ]
    }
   ],
   "source": [
    "n, a = get_sig(['LSU_01','LSU_02'],'2017_06_24','entln')"
   ]
  },
  {
   "cell_type": "code",
   "execution_count": 8,
   "metadata": {
    "collapsed": false
   },
   "outputs": [
    {
     "ename": "SystemExit",
     "evalue": "",
     "output_type": "error",
     "traceback": [
      "\u001b[1;31m---------------------------------------------------------------------------\u001b[0m",
      "\u001b[1;31mSystemExit\u001b[0m                                Traceback (most recent call last)",
      "\u001b[1;32m<ipython-input-7-a964577009e5>\u001b[0m in \u001b[0;36m<module>\u001b[1;34m()\u001b[0m\n\u001b[1;32m----> 1\u001b[1;33m \u001b[0mn\u001b[0m\u001b[1;33m,\u001b[0m \u001b[0ma\u001b[0m \u001b[1;33m=\u001b[0m \u001b[0mget_sig\u001b[0m\u001b[1;33m(\u001b[0m\u001b[1;33m[\u001b[0m\u001b[1;34m'LSU_01'\u001b[0m\u001b[1;33m,\u001b[0m\u001b[1;34m'LSU_02'\u001b[0m\u001b[1;33m]\u001b[0m\u001b[1;33m,\u001b[0m\u001b[1;34m'2017_06_24'\u001b[0m\u001b[1;33m,\u001b[0m\u001b[1;34m'entln'\u001b[0m\u001b[1;33m)\u001b[0m\u001b[1;33m\u001b[0m\u001b[0m\n\u001b[0m",
      "\u001b[1;32mC:\\Users\\tetra\\code\\tetra_analysis\\sigma_plot\\plot_sigma5.pyc\u001b[0m in \u001b[0;36mget_sig\u001b[1;34m(box_num, date_str, source, bin_size)\u001b[0m\n\u001b[0;32m     47\u001b[0m     \u001b[0mloc\u001b[0m \u001b[1;33m=\u001b[0m \u001b[0mtool\u001b[0m\u001b[1;33m.\u001b[0m\u001b[0mloc_name\u001b[0m\u001b[1;33m(\u001b[0m\u001b[0mbox_num\u001b[0m\u001b[1;33m[\u001b[0m\u001b[1;36m0\u001b[0m\u001b[1;33m]\u001b[0m\u001b[1;33m)\u001b[0m\u001b[1;33m\u001b[0m\u001b[0m\n\u001b[0;32m     48\u001b[0m     \u001b[0mstrikes_8km\u001b[0m \u001b[1;33m=\u001b[0m \u001b[0mnearby\u001b[0m\u001b[1;33m(\u001b[0m\u001b[0mloc\u001b[0m\u001b[1;33m,\u001b[0m \u001b[0mdate_str\u001b[0m\u001b[1;33m,\u001b[0m \u001b[0msource\u001b[0m\u001b[1;33m)\u001b[0m\u001b[1;33m\u001b[0m\u001b[0m\n\u001b[1;32m---> 49\u001b[1;33m     \u001b[1;32mif\u001b[0m \u001b[0mlen\u001b[0m\u001b[1;33m(\u001b[0m\u001b[0mstrikes_8km\u001b[0m\u001b[1;33m[\u001b[0m\u001b[1;36m0\u001b[0m\u001b[1;33m]\u001b[0m\u001b[1;33m)\u001b[0m \u001b[1;33m==\u001b[0m \u001b[1;36m0\u001b[0m\u001b[1;33m:\u001b[0m \u001b[0msys\u001b[0m\u001b[1;33m.\u001b[0m\u001b[0mexit\u001b[0m\u001b[1;33m(\u001b[0m\u001b[1;33m)\u001b[0m\u001b[1;33m\u001b[0m\u001b[0m\n\u001b[0m\u001b[0;32m     50\u001b[0m     \u001b[0mtimestamps\u001b[0m \u001b[1;33m=\u001b[0m \u001b[0mnp\u001b[0m\u001b[1;33m.\u001b[0m\u001b[0marray\u001b[0m\u001b[1;33m(\u001b[0m\u001b[1;33m[\u001b[0m\u001b[1;33m]\u001b[0m\u001b[1;33m)\u001b[0m\u001b[1;33m\u001b[0m\u001b[0m\n\u001b[0;32m     51\u001b[0m     \u001b[1;32mfor\u001b[0m \u001b[0mb\u001b[0m \u001b[1;32min\u001b[0m \u001b[0mbox_num\u001b[0m\u001b[1;33m:\u001b[0m\u001b[1;33m\u001b[0m\u001b[0m\n",
      "\u001b[1;31mSystemExit\u001b[0m: "
     ]
    }
   ],
   "source": [
    "%tb"
   ]
  },
  {
   "cell_type": "code",
   "execution_count": 7,
   "metadata": {
    "collapsed": false
   },
   "outputs": [
    {
     "name": "stdout",
     "output_type": "stream",
     "text": [
      "33.743999958\n",
      "145.951999903\n",
      "147.873999834\n"
     ]
    }
   ],
   "source": [
    "n1, a1 = get_sig(['PAN_01','PAN_02','PAN_03','PAN_04','PAN_05'],'2017_08_10', 'entln')"
   ]
  },
  {
   "cell_type": "code",
   "execution_count": 4,
   "metadata": {
    "collapsed": false
   },
   "outputs": [
    {
     "name": "stdout",
     "output_type": "stream",
     "text": [
      "104.131999969\n",
      "198.661000013\n",
      "200.623999834\n"
     ]
    }
   ],
   "source": [
    "n2, a2 = get_sig(['PR_01','PR_02','PR_03','PR_04','PR_05','PR_06','PR_07','PR_08','PR_09','PR_10'],'2017_08_13','entln')"
   ]
  },
  {
   "cell_type": "code",
   "execution_count": 3,
   "metadata": {
    "collapsed": false
   },
   "outputs": [
    {
     "data": {
      "image/png": "[encoded data removed]",
      "text/plain": [
       "<matplotlib.figure.Figure at 0xbb87e80>"
      ]
     },
     "metadata": {},
     "output_type": "display_data"
    }
   ],
   "source": [
    "x0 = np.arange(len(n))+1\n",
    "plt.yscale('log')\n",
    "#plt.plot(near_bin, lw = .5, marker = 'o', color = 'r')\n",
    "plt.bar(x0,n, color = 'white', edgecolor = 'r')\n",
    "plt.bar(x0,a, color = 'white', edgecolor = 'b')\n",
    "#plt.plot(a, lw = 0, marker = 'o', color = 'y')\n",
    "plt.xlim([0,150])\n",
    "plt.ylim([0.01,1e6])\n",
    "plt.show()"
   ]
  },
  {
   "cell_type": "code",
   "execution_count": null,
   "metadata": {
    "collapsed": false
   },
   "outputs": [],
   "source": [
    "#check on how get_sig handles large sigma points in all data when normalized\n",
    "#does it just go to zero, or a small decimal that could show up in the plot?  FIXED!"
   ]
  },
  {
   "cell_type": "code",
   "execution_count": null,
   "metadata": {
    "collapsed": true
   },
   "outputs": [],
   "source": []
  },
  {
   "cell_type": "code",
   "execution_count": 5,
   "metadata": {
    "collapsed": false
   },
   "outputs": [],
   "source": [
    "#this cell used for testing get_sig process of obtaining the histogrammed data\n",
    "\n",
    "from datetime import date\n",
    "import tetra_tools.tools as tool\n",
    "import time\n",
    "from tetra_analysis.ec_search.lightning import nearby\n",
    "\n",
    "source = 'entln'\n",
    "bin_size = .002\n",
    "box_num = ['LSU_01','LSU_02']\n",
    "start_date = '2017_03_25'\n",
    "start_time = time.time()  \n",
    "d = date_str[8:10]\n",
    "m = date_str[5:7]\n",
    "y = date_str[0:4]\n",
    "    \n",
    "near_data = []\n",
    "loc = tool.loc_name(box_num[0])\n",
    "strikes_8km = nearby(loc, date_str, source)\n",
    "if len(strikes_8km[0]) == 0: sys.exit()\n",
    "timestamps = np.array([])\n",
    "for b in box_num:\n",
    "    fp = 'Y:/' + b + '/' + y + '_' + m + '/ts_' + d + '.npz'\n",
    "    if not os.path.exists(fp): continue\n",
    "    ts_file = np.load(fp)\n",
    "    for key in ts_file.keys():\n",
    "        timestamps = np.concatenate([timestamps, ts_file[key]])\n",
    "if bin_size < .1:\n",
    "    all_counts = np.array([])\n",
    "    all_bins = np.array([])\n",
    "    for i in range(24):\n",
    "        ts_1hr = timestamps[np.where(np.logical_and(timestamps < 3600 * (i+1), timestamps > 3600 * i))[0]]\n",
    "        bins = np.linspace(0, 3600, 3600/bin_size + 1) + 3600 * i\n",
    "        counts = np.histogram(ts_1hr, bins)[0]\n",
    "        all_counts = np.concatenate([all_counts, counts])\n",
    "        if i != 23:\n",
    "            all_bins = np.concatenate([all_bins, bins[:-1]])\n",
    "        else:\n",
    "            all_bins = np.concatenate([all_bins, bins[:]])\n",
    "else:\n",
    "    all_bins = np.linspace(0, 86400, (86400/bin_size) + 1)\n",
    "    all_counts = np.histogram(timestamps, all_bins)[0]\n",
    "bin_mid = all_bins[:-1] + bin_size/2"
   ]
  },
  {
   "cell_type": "code",
   "execution_count": 6,
   "metadata": {
    "collapsed": false
   },
   "outputs": [],
   "source": [
    "#this cell is used for testing comparing binned data with lightning strikes\n",
    "\n",
    "\n",
    "near_data = []\n",
    "for i in range(len(bin_mid) - 1):\n",
    "    try:\n",
    "        x = tool.get_nearest(strikes_8km[0], bin_mid[i])\n",
    "    except ValueError:\n",
    "        continue\n",
    "    if np.abs(bin_mid[i] - strikes_8km[0][x]) < 5:\n",
    "        near_data.append(all_counts[i])\n",
    "ave_counts = np.average(all_counts)\n",
    "sig_counts = np.std(all_counts)"
   ]
  },
  {
   "cell_type": "code",
   "execution_count": 7,
   "metadata": {
    "collapsed": false,
    "scrolled": true
   },
   "outputs": [
    {
     "name": "stdout",
     "output_type": "stream",
     "text": [
      "134\n",
      "134\n"
     ]
    }
   ],
   "source": [
    "#this cell used for testing binning far/near data\n",
    "\n",
    "def bin_data(data, ave_counts, sig_counts):\n",
    "    \"\"\"take in a set of histogrammed data its average and stddev\n",
    "    return the bin counts for each sigma level\n",
    "    \"\"\"\n",
    "    \n",
    "    above = data - ave_counts\n",
    "    above[above < 0] = 0\n",
    "    sig = above / sig_counts\n",
    "    sig = np.floor(sig).astype(np.int32)\n",
    "    sig = sig[sig >= 0]\n",
    "    bins = np.bincount(sig)\n",
    "    return bins\n",
    "\n",
    "near_bin = bin_data(near_data, ave_counts, sig_counts)\n",
    "all_bin = bin_data(all_counts, ave_counts, sig_counts)\n",
    "all_bin = all_bin * float(len(near_data))/float(len(all_counts))\n",
    "storm_time_hrs = round(len(near_data)*.002/3600,5)\n",
    "print len(all_bin)\n",
    "print len(near_bin)"
   ]
  },
  {
   "cell_type": "code",
   "execution_count": 13,
   "metadata": {
    "collapsed": false
   },
   "outputs": [
    {
     "data": {
      "text/plain": [
       "array([ 1.        ,  0.07100123])"
      ]
     },
     "execution_count": 13,
     "metadata": {},
     "output_type": "execute_result"
    }
   ],
   "source": [
    "test2 = np.array(list(zip(near_bin, all_bin)))\n",
    "test2[-1]"
   ]
  },
  {
   "cell_type": "code",
   "execution_count": 20,
   "metadata": {
    "collapsed": false
   },
   "outputs": [
    {
     "data": {
      "image/png": "[encoded data removed]",
      "text/plain": [
       "<matplotlib.figure.Figure at 0xd18a1fd0>"
      ]
     },
     "metadata": {},
     "output_type": "display_data"
    }
   ],
   "source": [
    "#this cell used for playing with plotting\n",
    "\n",
    "#plt.plot(f, lw = 0, marker = 'o', color = 'r')\n",
    "plt.yscale('log')\n",
    "#plt.plot(near_bin, lw = .5, marker = 'o', color = 'r')\n",
    "plt.bar(x1,near_bin, color = 'white', edgecolor = 'r')\n",
    "plt.bar(x3,all_bin, color = 'white', edgecolor = 'b')\n",
    "#plt.plot(a, lw = 0, marker = 'o', color = 'y')\n",
    "plt.xlim([0,125])\n",
    "plt.ylim([0.01,1e6])\n",
    "plt.show()"
   ]
  },
  {
   "cell_type": "code",
   "execution_count": 42,
   "metadata": {
    "collapsed": false
   },
   "outputs": [
    {
     "data": {
      "text/plain": [
       "2601029.0"
      ]
     },
     "execution_count": 42,
     "metadata": {},
     "output_type": "execute_result"
    }
   ],
   "source": [
    "test2[0][0]"
   ]
  },
  {
   "cell_type": "code",
   "execution_count": 9,
   "metadata": {
    "collapsed": false
   },
   "outputs": [],
   "source": [
    "source = 'entln'"
   ]
  },
  {
   "cell_type": "code",
   "execution_count": 11,
   "metadata": {
    "collapsed": false
   },
   "outputs": [
    {
     "data": {
      "text/plain": [
       "'e'"
      ]
     },
     "execution_count": 11,
     "metadata": {},
     "output_type": "execute_result"
    }
   ],
   "source": [
    "source[0]"
   ]
  },
  {
   "cell_type": "code",
   "execution_count": null,
   "metadata": {
    "collapsed": true
   },
   "outputs": [],
   "source": []
  }
 ],
 "metadata": {
  "anaconda-cloud": {},
  "kernelspec": {
   "display_name": "Python [default]",
   "language": "python",
   "name": "python2"
  },
  "language_info": {
   "codemirror_mode": {
    "name": "ipython",
    "version": 2
   },
   "file_extension": ".py",
   "mimetype": "text/x-python",
   "name": "python",
   "nbconvert_exporter": "python",
   "pygments_lexer": "ipython2",
   "version": "2.7.14"
  }
 },
 "nbformat": 4,
 "nbformat_minor": 2
}
