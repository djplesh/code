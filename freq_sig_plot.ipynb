{
 "cells": [
  {
   "cell_type": "code",
   "execution_count": 1,
   "metadata": {
    "collapsed": false
   },
   "outputs": [],
   "source": [
    "import csv\n",
    "from tetra_tools.tools import path_files"
   ]
  },
  {
   "cell_type": "code",
   "execution_count": 2,
   "metadata": {
    "collapsed": false
   },
   "outputs": [],
   "source": [
    "file_list = path_files('C:/Users/tetra/analysis/freq_sig/')"
   ]
  },
  {
   "cell_type": "code",
   "execution_count": 3,
   "metadata": {
    "collapsed": false
   },
   "outputs": [],
   "source": [
    "total_time = 0\n",
    "n_sum = np.array([])\n",
    "a_sum = np.array([])\n",
    "\n",
    "for f in file_list:\n",
    "    if f[-3:] == 'csv':\n",
    "        n = []\n",
    "        a = []\n",
    "        with open(f) as infile:\n",
    "            reader = csv.reader(infile)\n",
    "            for row in reader:\n",
    "                if row[0].startswith('#'):\n",
    "                    h = float(row[0][2:9])\n",
    "                    total_time = total_time + h\n",
    "                else:\n",
    "                    n.append(float(row[0]))\n",
    "                    a.append(float(row[1]))\n",
    "            a = np.array(a)\n",
    "            n = np.array(n)\n",
    "            if len(n) < len(n_sum):\n",
    "                n.resize(n_sum.shape)\n",
    "            else:\n",
    "                n_sum.resize(n.shape)\n",
    "            n_sum = n_sum + n\n",
    "            if len(a) < len(a_sum):\n",
    "                a.resize(a_sum.shape)\n",
    "            else:\n",
    "                a_sum.resize(a.shape)\n",
    "            a_sum = a_sum + a\n",
    "            "
   ]
  },
  {
   "cell_type": "code",
   "execution_count": 9,
   "metadata": {
    "collapsed": false
   },
   "outputs": [
    {
     "data": {
      "image/png": "[encoded data removed]",
      "text/plain": [
       "<matplotlib.figure.Figure at 0xdfa12e8>"
      ]
     },
     "metadata": {},
     "output_type": "display_data"
    }
   ],
   "source": [
    "x1 = np.arange(len(n_sum))+1\n",
    "plt.bar(x1,n_sum, color = 'w', edgecolor = 'purple', width = .8, log = True, hatch = '/')\n",
    "plt.bar(x1,a_sum, color = 'w', edgecolor = 'g', width = .8, log = True, hatch = '/')\n",
    "plt.xlim([0,150])\n",
    "plt.ylim([0.01,1e7])\n",
    "plt.title('9 events, background normalized to 5 hours')\n",
    "plt.ylabel('# of events')\n",
    "plt.xlabel('Sigma')\n",
    "plt.savefig('C:/Users/tetra/analysis/freq_sig/freq_sig2.pdf')\n",
    "plt.show()\n"
   ]
  },
  {
   "cell_type": "code",
   "execution_count": 5,
   "metadata": {
    "collapsed": false
   },
   "outputs": [
    {
     "data": {
      "text/plain": [
       "5.0595"
      ]
     },
     "execution_count": 5,
     "metadata": {},
     "output_type": "execute_result"
    }
   ],
   "source": [
    "total_time"
   ]
  },
  {
   "cell_type": "code",
   "execution_count": 12,
   "metadata": {
    "collapsed": false
   },
   "outputs": [
    {
     "data": {
      "text/plain": [
       "582750000.0"
      ]
     },
     "execution_count": 12,
     "metadata": {},
     "output_type": "execute_result"
    }
   ],
   "source": [
    "1.85e9*.315"
   ]
  },
  {
   "cell_type": "code",
   "execution_count": 13,
   "metadata": {
    "collapsed": false
   },
   "outputs": [
    {
     "data": {
      "text/plain": [
       "26235000.0"
      ]
     },
     "execution_count": 13,
     "metadata": {},
     "output_type": "execute_result"
    }
   ],
   "source": [
    "5.83e8*.045"
   ]
  },
  {
   "cell_type": "code",
   "execution_count": 14,
   "metadata": {
    "collapsed": false
   },
   "outputs": [
    {
     "data": {
      "text/plain": [
       "11835000.0"
      ]
     },
     "execution_count": 14,
     "metadata": {},
     "output_type": "execute_result"
    }
   ],
   "source": [
    "2.63e8*.045"
   ]
  },
  {
   "cell_type": "code",
   "execution_count": 15,
   "metadata": {
    "collapsed": false
   },
   "outputs": [
    {
     "data": {
      "text/plain": [
       "26223750.0"
      ]
     },
     "execution_count": 15,
     "metadata": {},
     "output_type": "execute_result"
    }
   ],
   "source": [
    "1.85e9*.315*.045"
   ]
  },
  {
   "cell_type": "code",
   "execution_count": null,
   "metadata": {
    "collapsed": true
   },
   "outputs": [],
   "source": []
  }
 ],
 "metadata": {
  "anaconda-cloud": {},
  "kernelspec": {
   "display_name": "Python [default]",
   "language": "python",
   "name": "python2"
  },
  "language_info": {
   "codemirror_mode": {
    "name": "ipython",
    "version": 2
   },
   "file_extension": ".py",
   "mimetype": "text/x-python",
   "name": "python",
   "nbconvert_exporter": "python",
   "pygments_lexer": "ipython2",
   "version": "2.7.14"
  }
 },
 "nbformat": 4,
 "nbformat_minor": 2
}
